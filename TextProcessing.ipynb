{
  "cells": [
    {
      "cell_type": "markdown",
      "metadata": {
        "id": "GPT8euseHs1e"
      },
      "source": [
        "## Parsing\n"
      ]
    },
    {
      "cell_type": "code",
      "execution_count": null,
      "metadata": {
        "id": "_lpHAtDBHew5"
      },
      "outputs": [],
      "source": [
        "import requests\n",
        "from bs4 import BeautifulSoup"
      ]
    },
    {
      "cell_type": "code",
      "execution_count": null,
      "metadata": {
        "id": "rs1SmdJHH1bk"
      },
      "outputs": [],
      "source": [
        "https = \"https://stopgame.ru/news\""
      ]
    },
    {
      "cell_type": "code",
      "execution_count": null,
      "metadata": {
        "id": "O_AvgzOMIAvf"
      },
      "outputs": [],
      "source": [
        "links = [https + 'data/' + str(x) for x in range(57137, 58137)]\n",
        "#58037 58255"
      ]
    },
    {
      "cell_type": "code",
      "execution_count": null,
      "metadata": {
        "id": "w7lnmBBBQ3MT"
      },
      "outputs": [],
      "source": [
        "from tqdm import tqdm # чтобы знать, сколько еще ждать"
      ]
    },
    {
      "cell_type": "code",
      "execution_count": null,
      "metadata": {
        "id": "ecYUGRvhYG-3"
      },
      "outputs": [],
      "source": [
        "map = list()"
      ]
    },
    {
      "cell_type": "code",
      "execution_count": null,
      "metadata": {
        "id": "A3RrMyVNY5zE"
      },
      "outputs": [],
      "source": [
        "import time"
      ]
    },
    {
      "cell_type": "code",
      "source": [
        "for i, link in enumerate(tqdm(links)):\n",
        "  page = requests.get(link)\n",
        "  time.sleep(0.1)\n",
        "  if page.ok:\n",
        "    data = BeautifulSoup(page.text, \"html.parser\")\n",
        "\n",
        "    title=data.h1.text\n",
        "    p_h3_tags = [tag.text.strip() for tag in data.find_all(['p', 'h3']) if not tag.find_parent('div', {'data-reactssr': True})]\n",
        "    text = \" \".join(p_h3_tags)\n",
        "\n",
        "    #tags = []\n",
        "    #for t in data.find_all(\"div\", attrs = {\"class\" : \"_tags__wrapper_1c0t7_1\"})[0].find_all(\"a\"):\n",
        "      #tags.append(t.get_text())\n",
        "    tags_1 = [tags.text.strip() for tags in data.find_all(\"div\", attrs = {\"class\" : \"_tags__wrapper_1c0t7_1\"})[0].find_all(\"a\")]\n",
        "    tags = \", \".join(tags_1)\n",
        "    if len(data.find_all('span', attrs={'class' : '_date_1c0t7_537 _date--full_1c0t7_1'})) > 0:\n",
        "      time_ = data.find_all('span', attrs={'class' : '_date_1c0t7_537 _date--full_1c0t7_1'})[0].get_text()\n",
        "    else:\n",
        "      time_ = '-'\n",
        "\n",
        "    if len(data.find_all('div', attrs={'class' : '_bottom-info_1c0t7_588'})) > 0:\n",
        "      author = data.find_all('div', attrs={'class' : '_bottom-info_1c0t7_588'})[0].find_all('span')[0].get_text()\n",
        "    else:\n",
        "      author = '-'\n",
        "\n",
        "    map.append([title, author, time_, text, tags])"
      ],
      "metadata": {
        "colab": {
          "base_uri": "https://localhost:8080/"
        },
        "id": "h1wP8kN1lPE9",
        "outputId": "409fb502-bd2f-476a-c0c5-375e2a98731c"
      },
      "execution_count": null,
      "outputs": [
        {
          "output_type": "stream",
          "name": "stderr",
          "text": [
            "100%|██████████| 1000/1000 [16:42<00:00,  1.00s/it]\n"
          ]
        }
      ]
    },
    {
      "cell_type": "code",
      "source": [
        "from google.colab import files\n",
        "import pandas as pd\n",
        "\n",
        "df = pd.DataFrame(data=map, columns=['title', 'author', 'time_', 'text', 'tags'])\n",
        "df['time_'] = df['time_'].str.replace('\\n', '')\n",
        "df['tags'] = df['tags'].str.replace('\\n', '')\n",
        "df['text'] = df['text'].str.replace(\"\\xa0\", \" \")\n",
        "df['main_tag'] = df['tags'].str.split(',').str[0]\n",
        "gameNews = df.to_excel('GameNews1.xlsx')\n",
        "gameNews_csv = df.to_csv('GameNews1.csv')"
      ],
      "metadata": {
        "id": "ZiT2sj0fIjyS"
      },
      "execution_count": null,
      "outputs": []
    },
    {
      "cell_type": "code",
      "source": [
        "files.download('GameNews1.xlsx')"
      ],
      "metadata": {
        "colab": {
          "base_uri": "https://localhost:8080/",
          "height": 17
        },
        "id": "h_V7lTffIzZo",
        "outputId": "4cd610d2-b331-4c88-a1d1-eeba4512e1af"
      },
      "execution_count": null,
      "outputs": [
        {
          "output_type": "display_data",
          "data": {
            "text/plain": [
              "<IPython.core.display.Javascript object>"
            ],
            "application/javascript": [
              "\n",
              "    async function download(id, filename, size) {\n",
              "      if (!google.colab.kernel.accessAllowed) {\n",
              "        return;\n",
              "      }\n",
              "      const div = document.createElement('div');\n",
              "      const label = document.createElement('label');\n",
              "      label.textContent = `Downloading \"${filename}\": `;\n",
              "      div.appendChild(label);\n",
              "      const progress = document.createElement('progress');\n",
              "      progress.max = size;\n",
              "      div.appendChild(progress);\n",
              "      document.body.appendChild(div);\n",
              "\n",
              "      const buffers = [];\n",
              "      let downloaded = 0;\n",
              "\n",
              "      const channel = await google.colab.kernel.comms.open(id);\n",
              "      // Send a message to notify the kernel that we're ready.\n",
              "      channel.send({})\n",
              "\n",
              "      for await (const message of channel.messages) {\n",
              "        // Send a message to notify the kernel that we're ready.\n",
              "        channel.send({})\n",
              "        if (message.buffers) {\n",
              "          for (const buffer of message.buffers) {\n",
              "            buffers.push(buffer);\n",
              "            downloaded += buffer.byteLength;\n",
              "            progress.value = downloaded;\n",
              "          }\n",
              "        }\n",
              "      }\n",
              "      const blob = new Blob(buffers, {type: 'application/binary'});\n",
              "      const a = document.createElement('a');\n",
              "      a.href = window.URL.createObjectURL(blob);\n",
              "      a.download = filename;\n",
              "      div.appendChild(a);\n",
              "      a.click();\n",
              "      div.remove();\n",
              "    }\n",
              "  "
            ]
          },
          "metadata": {}
        },
        {
          "output_type": "display_data",
          "data": {
            "text/plain": [
              "<IPython.core.display.Javascript object>"
            ],
            "application/javascript": [
              "download(\"download_ca08c477-35c3-4ac1-aa04-1fd59478fc31\", \"GameNews1.xlsx\", 779233)"
            ]
          },
          "metadata": {}
        }
      ]
    },
    {
      "cell_type": "code",
      "source": [
        "files.download('GameNews1.csv')"
      ],
      "metadata": {
        "colab": {
          "base_uri": "https://localhost:8080/",
          "height": 17
        },
        "id": "5uo0SAuPCM4n",
        "outputId": "5a707793-70c3-4a8b-e75e-5868985b2841"
      },
      "execution_count": null,
      "outputs": [
        {
          "output_type": "display_data",
          "data": {
            "text/plain": [
              "<IPython.core.display.Javascript object>"
            ],
            "application/javascript": [
              "\n",
              "    async function download(id, filename, size) {\n",
              "      if (!google.colab.kernel.accessAllowed) {\n",
              "        return;\n",
              "      }\n",
              "      const div = document.createElement('div');\n",
              "      const label = document.createElement('label');\n",
              "      label.textContent = `Downloading \"${filename}\": `;\n",
              "      div.appendChild(label);\n",
              "      const progress = document.createElement('progress');\n",
              "      progress.max = size;\n",
              "      div.appendChild(progress);\n",
              "      document.body.appendChild(div);\n",
              "\n",
              "      const buffers = [];\n",
              "      let downloaded = 0;\n",
              "\n",
              "      const channel = await google.colab.kernel.comms.open(id);\n",
              "      // Send a message to notify the kernel that we're ready.\n",
              "      channel.send({})\n",
              "\n",
              "      for await (const message of channel.messages) {\n",
              "        // Send a message to notify the kernel that we're ready.\n",
              "        channel.send({})\n",
              "        if (message.buffers) {\n",
              "          for (const buffer of message.buffers) {\n",
              "            buffers.push(buffer);\n",
              "            downloaded += buffer.byteLength;\n",
              "            progress.value = downloaded;\n",
              "          }\n",
              "        }\n",
              "      }\n",
              "      const blob = new Blob(buffers, {type: 'application/binary'});\n",
              "      const a = document.createElement('a');\n",
              "      a.href = window.URL.createObjectURL(blob);\n",
              "      a.download = filename;\n",
              "      div.appendChild(a);\n",
              "      a.click();\n",
              "      div.remove();\n",
              "    }\n",
              "  "
            ]
          },
          "metadata": {}
        },
        {
          "output_type": "display_data",
          "data": {
            "text/plain": [
              "<IPython.core.display.Javascript object>"
            ],
            "application/javascript": [
              "download(\"download_7565d562-40cc-42b8-81e0-ccafabe1ca67\", \"GameNews.csv\", 874140)"
            ]
          },
          "metadata": {}
        }
      ]
    },
    {
      "cell_type": "code",
      "source": [
        "df"
      ],
      "metadata": {
        "colab": {
          "base_uri": "https://localhost:8080/",
          "height": 641
        },
        "id": "2JPfgzqBJLDw",
        "outputId": "962d7793-947a-4be7-8cf3-5602820d82a1"
      },
      "execution_count": null,
      "outputs": [
        {
          "output_type": "execute_result",
          "data": {
            "text/plain": [
              "                                                 title               author  \\\n",
              "0    Осенью выйдет El Paso, Elsewhere — сверхъестес...      Руслан Присекин   \n",
              "1    Патч для ПК-версии Wild Hearts улучшает произв...      Андрей Маковеев   \n",
              "2    На EVO 2023 будут соревнования по Street Fight...      Руслан Присекин   \n",
              "3    Игроки провели в Hogwarts Legacy больше 267 ми...  Александр Кудрявцев   \n",
              "4    Пан или пропал — разработчик Ori о следующей и...      Андрей Маковеев   \n",
              "..                                                 ...                  ...   \n",
              "992  Fortnite добавили в олимпийские соревнования к...  Александр Кудрявцев   \n",
              "993  Почти 40 % игроков Hunt: Showdown не сделали н...  Александр Кудрявцев   \n",
              "994  EVE Online отметит 20-летие фейерверком и ново...  Александр Кудрявцев   \n",
              "995         Sony закрывает внутреннюю студию PixelOpus  Александр Кудрявцев   \n",
              "996  31 мая выйдет продолжение изометрического хорр...      Руслан Присекин   \n",
              "\n",
              "           time_                                               text  \\\n",
              "0    22 февраля   Нынче подражать Max Payne немодно, но студии S...   \n",
              "1    22 февраля   Охотничий боевик Wild Hearts страдает от багов...   \n",
              "2    22 февраля   В этом году файтинговый турнир EVO (Evolution ...   \n",
              "3    22 февраля   Журналистка издания Variety пообщалась с предс...   \n",
              "4    22 февраля   Moon Studios, ответственная за дилогию метроид...   \n",
              "..           ...                                                ...   \n",
              "992       5 мая   Международный олимпийский комитет объявил, что...   \n",
              "993       6 мая   Генеральный менеджер франшизы Hunt в Crytek Дэ...   \n",
              "994       6 мая   Сегодня, 6 мая, компания CCP Games празднует 2...   \n",
              "995       6 мая   Dear friends, our PixelOpus adventure has come...   \n",
              "996       6 мая   Научно-фантастический point’n’click-квест Stas...   \n",
              "\n",
              "                                                  tags       main_tag  \n",
              "0                      PC, Xbox Series X | S, Xbox One             PC  \n",
              "1                                                   PC             PC  \n",
              "2                                            Индустрия      Индустрия  \n",
              "3                 PC, PlayStation 5, Xbox Series X | S             PC  \n",
              "4                                            Индустрия      Индустрия  \n",
              "..                                                 ...            ...  \n",
              "992                                         Киберспорт     Киберспорт  \n",
              "993  PC, PlayStation 5, PlayStation 4, Xbox Series ...             PC  \n",
              "994                                                 PC             PC  \n",
              "995                           PlayStation 5, Индустрия  PlayStation 5  \n",
              "996                                                 PC             PC  \n",
              "\n",
              "[997 rows x 6 columns]"
            ],
            "text/html": [
              "\n",
              "  <div id=\"df-62c0f62a-20d0-4666-bba5-917a04d7d3c5\">\n",
              "    <div class=\"colab-df-container\">\n",
              "      <div>\n",
              "<style scoped>\n",
              "    .dataframe tbody tr th:only-of-type {\n",
              "        vertical-align: middle;\n",
              "    }\n",
              "\n",
              "    .dataframe tbody tr th {\n",
              "        vertical-align: top;\n",
              "    }\n",
              "\n",
              "    .dataframe thead th {\n",
              "        text-align: right;\n",
              "    }\n",
              "</style>\n",
              "<table border=\"1\" class=\"dataframe\">\n",
              "  <thead>\n",
              "    <tr style=\"text-align: right;\">\n",
              "      <th></th>\n",
              "      <th>title</th>\n",
              "      <th>author</th>\n",
              "      <th>time_</th>\n",
              "      <th>text</th>\n",
              "      <th>tags</th>\n",
              "      <th>main_tag</th>\n",
              "    </tr>\n",
              "  </thead>\n",
              "  <tbody>\n",
              "    <tr>\n",
              "      <th>0</th>\n",
              "      <td>Осенью выйдет El Paso, Elsewhere — сверхъестес...</td>\n",
              "      <td>Руслан Присекин</td>\n",
              "      <td>22 февраля</td>\n",
              "      <td>Нынче подражать Max Payne немодно, но студии S...</td>\n",
              "      <td>PC, Xbox Series X | S, Xbox One</td>\n",
              "      <td>PC</td>\n",
              "    </tr>\n",
              "    <tr>\n",
              "      <th>1</th>\n",
              "      <td>Патч для ПК-версии Wild Hearts улучшает произв...</td>\n",
              "      <td>Андрей Маковеев</td>\n",
              "      <td>22 февраля</td>\n",
              "      <td>Охотничий боевик Wild Hearts страдает от багов...</td>\n",
              "      <td>PC</td>\n",
              "      <td>PC</td>\n",
              "    </tr>\n",
              "    <tr>\n",
              "      <th>2</th>\n",
              "      <td>На EVO 2023 будут соревнования по Street Fight...</td>\n",
              "      <td>Руслан Присекин</td>\n",
              "      <td>22 февраля</td>\n",
              "      <td>В этом году файтинговый турнир EVO (Evolution ...</td>\n",
              "      <td>Индустрия</td>\n",
              "      <td>Индустрия</td>\n",
              "    </tr>\n",
              "    <tr>\n",
              "      <th>3</th>\n",
              "      <td>Игроки провели в Hogwarts Legacy больше 267 ми...</td>\n",
              "      <td>Александр Кудрявцев</td>\n",
              "      <td>22 февраля</td>\n",
              "      <td>Журналистка издания Variety пообщалась с предс...</td>\n",
              "      <td>PC, PlayStation 5, Xbox Series X | S</td>\n",
              "      <td>PC</td>\n",
              "    </tr>\n",
              "    <tr>\n",
              "      <th>4</th>\n",
              "      <td>Пан или пропал — разработчик Ori о следующей и...</td>\n",
              "      <td>Андрей Маковеев</td>\n",
              "      <td>22 февраля</td>\n",
              "      <td>Moon Studios, ответственная за дилогию метроид...</td>\n",
              "      <td>Индустрия</td>\n",
              "      <td>Индустрия</td>\n",
              "    </tr>\n",
              "    <tr>\n",
              "      <th>...</th>\n",
              "      <td>...</td>\n",
              "      <td>...</td>\n",
              "      <td>...</td>\n",
              "      <td>...</td>\n",
              "      <td>...</td>\n",
              "      <td>...</td>\n",
              "    </tr>\n",
              "    <tr>\n",
              "      <th>992</th>\n",
              "      <td>Fortnite добавили в олимпийские соревнования к...</td>\n",
              "      <td>Александр Кудрявцев</td>\n",
              "      <td>5 мая</td>\n",
              "      <td>Международный олимпийский комитет объявил, что...</td>\n",
              "      <td>Киберспорт</td>\n",
              "      <td>Киберспорт</td>\n",
              "    </tr>\n",
              "    <tr>\n",
              "      <th>993</th>\n",
              "      <td>Почти 40 % игроков Hunt: Showdown не сделали н...</td>\n",
              "      <td>Александр Кудрявцев</td>\n",
              "      <td>6 мая</td>\n",
              "      <td>Генеральный менеджер франшизы Hunt в Crytek Дэ...</td>\n",
              "      <td>PC, PlayStation 5, PlayStation 4, Xbox Series ...</td>\n",
              "      <td>PC</td>\n",
              "    </tr>\n",
              "    <tr>\n",
              "      <th>994</th>\n",
              "      <td>EVE Online отметит 20-летие фейерверком и ново...</td>\n",
              "      <td>Александр Кудрявцев</td>\n",
              "      <td>6 мая</td>\n",
              "      <td>Сегодня, 6 мая, компания CCP Games празднует 2...</td>\n",
              "      <td>PC</td>\n",
              "      <td>PC</td>\n",
              "    </tr>\n",
              "    <tr>\n",
              "      <th>995</th>\n",
              "      <td>Sony закрывает внутреннюю студию PixelOpus</td>\n",
              "      <td>Александр Кудрявцев</td>\n",
              "      <td>6 мая</td>\n",
              "      <td>Dear friends, our PixelOpus adventure has come...</td>\n",
              "      <td>PlayStation 5, Индустрия</td>\n",
              "      <td>PlayStation 5</td>\n",
              "    </tr>\n",
              "    <tr>\n",
              "      <th>996</th>\n",
              "      <td>31 мая выйдет продолжение изометрического хорр...</td>\n",
              "      <td>Руслан Присекин</td>\n",
              "      <td>6 мая</td>\n",
              "      <td>Научно-фантастический point’n’click-квест Stas...</td>\n",
              "      <td>PC</td>\n",
              "      <td>PC</td>\n",
              "    </tr>\n",
              "  </tbody>\n",
              "</table>\n",
              "<p>997 rows × 6 columns</p>\n",
              "</div>\n",
              "      <button class=\"colab-df-convert\" onclick=\"convertToInteractive('df-62c0f62a-20d0-4666-bba5-917a04d7d3c5')\"\n",
              "              title=\"Convert this dataframe to an interactive table.\"\n",
              "              style=\"display:none;\">\n",
              "        \n",
              "  <svg xmlns=\"http://www.w3.org/2000/svg\" height=\"24px\"viewBox=\"0 0 24 24\"\n",
              "       width=\"24px\">\n",
              "    <path d=\"M0 0h24v24H0V0z\" fill=\"none\"/>\n",
              "    <path d=\"M18.56 5.44l.94 2.06.94-2.06 2.06-.94-2.06-.94-.94-2.06-.94 2.06-2.06.94zm-11 1L8.5 8.5l.94-2.06 2.06-.94-2.06-.94L8.5 2.5l-.94 2.06-2.06.94zm10 10l.94 2.06.94-2.06 2.06-.94-2.06-.94-.94-2.06-.94 2.06-2.06.94z\"/><path d=\"M17.41 7.96l-1.37-1.37c-.4-.4-.92-.59-1.43-.59-.52 0-1.04.2-1.43.59L10.3 9.45l-7.72 7.72c-.78.78-.78 2.05 0 2.83L4 21.41c.39.39.9.59 1.41.59.51 0 1.02-.2 1.41-.59l7.78-7.78 2.81-2.81c.8-.78.8-2.07 0-2.86zM5.41 20L4 18.59l7.72-7.72 1.47 1.35L5.41 20z\"/>\n",
              "  </svg>\n",
              "      </button>\n",
              "      \n",
              "  <style>\n",
              "    .colab-df-container {\n",
              "      display:flex;\n",
              "      flex-wrap:wrap;\n",
              "      gap: 12px;\n",
              "    }\n",
              "\n",
              "    .colab-df-convert {\n",
              "      background-color: #E8F0FE;\n",
              "      border: none;\n",
              "      border-radius: 50%;\n",
              "      cursor: pointer;\n",
              "      display: none;\n",
              "      fill: #1967D2;\n",
              "      height: 32px;\n",
              "      padding: 0 0 0 0;\n",
              "      width: 32px;\n",
              "    }\n",
              "\n",
              "    .colab-df-convert:hover {\n",
              "      background-color: #E2EBFA;\n",
              "      box-shadow: 0px 1px 2px rgba(60, 64, 67, 0.3), 0px 1px 3px 1px rgba(60, 64, 67, 0.15);\n",
              "      fill: #174EA6;\n",
              "    }\n",
              "\n",
              "    [theme=dark] .colab-df-convert {\n",
              "      background-color: #3B4455;\n",
              "      fill: #D2E3FC;\n",
              "    }\n",
              "\n",
              "    [theme=dark] .colab-df-convert:hover {\n",
              "      background-color: #434B5C;\n",
              "      box-shadow: 0px 1px 3px 1px rgba(0, 0, 0, 0.15);\n",
              "      filter: drop-shadow(0px 1px 2px rgba(0, 0, 0, 0.3));\n",
              "      fill: #FFFFFF;\n",
              "    }\n",
              "  </style>\n",
              "\n",
              "      <script>\n",
              "        const buttonEl =\n",
              "          document.querySelector('#df-62c0f62a-20d0-4666-bba5-917a04d7d3c5 button.colab-df-convert');\n",
              "        buttonEl.style.display =\n",
              "          google.colab.kernel.accessAllowed ? 'block' : 'none';\n",
              "\n",
              "        async function convertToInteractive(key) {\n",
              "          const element = document.querySelector('#df-62c0f62a-20d0-4666-bba5-917a04d7d3c5');\n",
              "          const dataTable =\n",
              "            await google.colab.kernel.invokeFunction('convertToInteractive',\n",
              "                                                     [key], {});\n",
              "          if (!dataTable) return;\n",
              "\n",
              "          const docLinkHtml = 'Like what you see? Visit the ' +\n",
              "            '<a target=\"_blank\" href=https://colab.research.google.com/notebooks/data_table.ipynb>data table notebook</a>'\n",
              "            + ' to learn more about interactive tables.';\n",
              "          element.innerHTML = '';\n",
              "          dataTable['output_type'] = 'display_data';\n",
              "          await google.colab.output.renderOutput(dataTable, element);\n",
              "          const docLink = document.createElement('div');\n",
              "          docLink.innerHTML = docLinkHtml;\n",
              "          element.appendChild(docLink);\n",
              "        }\n",
              "      </script>\n",
              "    </div>\n",
              "  </div>\n",
              "  "
            ]
          },
          "metadata": {},
          "execution_count": 20
        }
      ]
    },
    {
      "cell_type": "markdown",
      "metadata": {
        "id": "BFgYI_cAnJIR"
      },
      "source": [
        "##Vectorization"
      ]
    },
    {
      "cell_type": "code",
      "execution_count": null,
      "metadata": {
        "id": "Qzg6H0XznIw2"
      },
      "outputs": [],
      "source": [
        "import numpy as np\n",
        "import pandas as pd"
      ]
    },
    {
      "cell_type": "code",
      "source": [
        "\n",
        "from google.colab import files\n",
        "files.upload()"
      ],
      "metadata": {
        "id": "CiNeGkJ7Qky7"
      },
      "execution_count": null,
      "outputs": []
    },
    {
      "cell_type": "code",
      "source": [
        "df = pd.read_excel('GameNews1.xlsx', usecols=[4, 6])"
      ],
      "metadata": {
        "id": "68ztJki8Q23P"
      },
      "execution_count": null,
      "outputs": []
    },
    {
      "cell_type": "code",
      "source": [
        "df"
      ],
      "metadata": {
        "colab": {
          "base_uri": "https://localhost:8080/",
          "height": 423
        },
        "id": "UlVtd3C-VnXo",
        "outputId": "59a21228-74b9-4315-ca63-f45870b09681"
      },
      "execution_count": null,
      "outputs": [
        {
          "output_type": "execute_result",
          "data": {
            "text/plain": [
              "                                                  text       main_tag\n",
              "0    Нынче подражать Max Payne немодно, но студии S...             PC\n",
              "1    Охотничий боевик Wild Hearts страдает от багов...             PC\n",
              "2    В этом году файтинговый турнир EVO (Evolution ...      Индустрия\n",
              "3    Журналистка издания Variety пообщалась с предс...             PC\n",
              "4    Moon Studios, ответственная за дилогию метроид...      Индустрия\n",
              "..                                                 ...            ...\n",
              "992  Международный олимпийский комитет объявил, что...     Киберспорт\n",
              "993  Генеральный менеджер франшизы Hunt в Crytek Дэ...             PC\n",
              "994  Сегодня, 6 мая, компания CCP Games празднует 2...             PC\n",
              "995  Dear friends, our PixelOpus adventure has come...  PlayStation 5\n",
              "996  Научно-фантастический point’n’click-квест Stas...             PC\n",
              "\n",
              "[997 rows x 2 columns]"
            ],
            "text/html": [
              "\n",
              "  <div id=\"df-76d4e6ea-ca69-4012-9e61-109703e1a0da\">\n",
              "    <div class=\"colab-df-container\">\n",
              "      <div>\n",
              "<style scoped>\n",
              "    .dataframe tbody tr th:only-of-type {\n",
              "        vertical-align: middle;\n",
              "    }\n",
              "\n",
              "    .dataframe tbody tr th {\n",
              "        vertical-align: top;\n",
              "    }\n",
              "\n",
              "    .dataframe thead th {\n",
              "        text-align: right;\n",
              "    }\n",
              "</style>\n",
              "<table border=\"1\" class=\"dataframe\">\n",
              "  <thead>\n",
              "    <tr style=\"text-align: right;\">\n",
              "      <th></th>\n",
              "      <th>text</th>\n",
              "      <th>main_tag</th>\n",
              "    </tr>\n",
              "  </thead>\n",
              "  <tbody>\n",
              "    <tr>\n",
              "      <th>0</th>\n",
              "      <td>Нынче подражать Max Payne немодно, но студии S...</td>\n",
              "      <td>PC</td>\n",
              "    </tr>\n",
              "    <tr>\n",
              "      <th>1</th>\n",
              "      <td>Охотничий боевик Wild Hearts страдает от багов...</td>\n",
              "      <td>PC</td>\n",
              "    </tr>\n",
              "    <tr>\n",
              "      <th>2</th>\n",
              "      <td>В этом году файтинговый турнир EVO (Evolution ...</td>\n",
              "      <td>Индустрия</td>\n",
              "    </tr>\n",
              "    <tr>\n",
              "      <th>3</th>\n",
              "      <td>Журналистка издания Variety пообщалась с предс...</td>\n",
              "      <td>PC</td>\n",
              "    </tr>\n",
              "    <tr>\n",
              "      <th>4</th>\n",
              "      <td>Moon Studios, ответственная за дилогию метроид...</td>\n",
              "      <td>Индустрия</td>\n",
              "    </tr>\n",
              "    <tr>\n",
              "      <th>...</th>\n",
              "      <td>...</td>\n",
              "      <td>...</td>\n",
              "    </tr>\n",
              "    <tr>\n",
              "      <th>992</th>\n",
              "      <td>Международный олимпийский комитет объявил, что...</td>\n",
              "      <td>Киберспорт</td>\n",
              "    </tr>\n",
              "    <tr>\n",
              "      <th>993</th>\n",
              "      <td>Генеральный менеджер франшизы Hunt в Crytek Дэ...</td>\n",
              "      <td>PC</td>\n",
              "    </tr>\n",
              "    <tr>\n",
              "      <th>994</th>\n",
              "      <td>Сегодня, 6 мая, компания CCP Games празднует 2...</td>\n",
              "      <td>PC</td>\n",
              "    </tr>\n",
              "    <tr>\n",
              "      <th>995</th>\n",
              "      <td>Dear friends, our PixelOpus adventure has come...</td>\n",
              "      <td>PlayStation 5</td>\n",
              "    </tr>\n",
              "    <tr>\n",
              "      <th>996</th>\n",
              "      <td>Научно-фантастический point’n’click-квест Stas...</td>\n",
              "      <td>PC</td>\n",
              "    </tr>\n",
              "  </tbody>\n",
              "</table>\n",
              "<p>997 rows × 2 columns</p>\n",
              "</div>\n",
              "      <button class=\"colab-df-convert\" onclick=\"convertToInteractive('df-76d4e6ea-ca69-4012-9e61-109703e1a0da')\"\n",
              "              title=\"Convert this dataframe to an interactive table.\"\n",
              "              style=\"display:none;\">\n",
              "        \n",
              "  <svg xmlns=\"http://www.w3.org/2000/svg\" height=\"24px\"viewBox=\"0 0 24 24\"\n",
              "       width=\"24px\">\n",
              "    <path d=\"M0 0h24v24H0V0z\" fill=\"none\"/>\n",
              "    <path d=\"M18.56 5.44l.94 2.06.94-2.06 2.06-.94-2.06-.94-.94-2.06-.94 2.06-2.06.94zm-11 1L8.5 8.5l.94-2.06 2.06-.94-2.06-.94L8.5 2.5l-.94 2.06-2.06.94zm10 10l.94 2.06.94-2.06 2.06-.94-2.06-.94-.94-2.06-.94 2.06-2.06.94z\"/><path d=\"M17.41 7.96l-1.37-1.37c-.4-.4-.92-.59-1.43-.59-.52 0-1.04.2-1.43.59L10.3 9.45l-7.72 7.72c-.78.78-.78 2.05 0 2.83L4 21.41c.39.39.9.59 1.41.59.51 0 1.02-.2 1.41-.59l7.78-7.78 2.81-2.81c.8-.78.8-2.07 0-2.86zM5.41 20L4 18.59l7.72-7.72 1.47 1.35L5.41 20z\"/>\n",
              "  </svg>\n",
              "      </button>\n",
              "      \n",
              "  <style>\n",
              "    .colab-df-container {\n",
              "      display:flex;\n",
              "      flex-wrap:wrap;\n",
              "      gap: 12px;\n",
              "    }\n",
              "\n",
              "    .colab-df-convert {\n",
              "      background-color: #E8F0FE;\n",
              "      border: none;\n",
              "      border-radius: 50%;\n",
              "      cursor: pointer;\n",
              "      display: none;\n",
              "      fill: #1967D2;\n",
              "      height: 32px;\n",
              "      padding: 0 0 0 0;\n",
              "      width: 32px;\n",
              "    }\n",
              "\n",
              "    .colab-df-convert:hover {\n",
              "      background-color: #E2EBFA;\n",
              "      box-shadow: 0px 1px 2px rgba(60, 64, 67, 0.3), 0px 1px 3px 1px rgba(60, 64, 67, 0.15);\n",
              "      fill: #174EA6;\n",
              "    }\n",
              "\n",
              "    [theme=dark] .colab-df-convert {\n",
              "      background-color: #3B4455;\n",
              "      fill: #D2E3FC;\n",
              "    }\n",
              "\n",
              "    [theme=dark] .colab-df-convert:hover {\n",
              "      background-color: #434B5C;\n",
              "      box-shadow: 0px 1px 3px 1px rgba(0, 0, 0, 0.15);\n",
              "      filter: drop-shadow(0px 1px 2px rgba(0, 0, 0, 0.3));\n",
              "      fill: #FFFFFF;\n",
              "    }\n",
              "  </style>\n",
              "\n",
              "      <script>\n",
              "        const buttonEl =\n",
              "          document.querySelector('#df-76d4e6ea-ca69-4012-9e61-109703e1a0da button.colab-df-convert');\n",
              "        buttonEl.style.display =\n",
              "          google.colab.kernel.accessAllowed ? 'block' : 'none';\n",
              "\n",
              "        async function convertToInteractive(key) {\n",
              "          const element = document.querySelector('#df-76d4e6ea-ca69-4012-9e61-109703e1a0da');\n",
              "          const dataTable =\n",
              "            await google.colab.kernel.invokeFunction('convertToInteractive',\n",
              "                                                     [key], {});\n",
              "          if (!dataTable) return;\n",
              "\n",
              "          const docLinkHtml = 'Like what you see? Visit the ' +\n",
              "            '<a target=\"_blank\" href=https://colab.research.google.com/notebooks/data_table.ipynb>data table notebook</a>'\n",
              "            + ' to learn more about interactive tables.';\n",
              "          element.innerHTML = '';\n",
              "          dataTable['output_type'] = 'display_data';\n",
              "          await google.colab.output.renderOutput(dataTable, element);\n",
              "          const docLink = document.createElement('div');\n",
              "          docLink.innerHTML = docLinkHtml;\n",
              "          element.appendChild(docLink);\n",
              "        }\n",
              "      </script>\n",
              "    </div>\n",
              "  </div>\n",
              "  "
            ]
          },
          "metadata": {},
          "execution_count": 34
        }
      ]
    },
    {
      "cell_type": "code",
      "source": [
        "\n",
        "news = np.array(df[df.keys()[0]])\n",
        "tags = np.array(df[df.keys()[1]])"
      ],
      "metadata": {
        "id": "IfjGplhJRUD3"
      },
      "execution_count": null,
      "outputs": []
    },
    {
      "cell_type": "code",
      "source": [
        "\n",
        "unique, counts = np.unique(tags, return_counts=True)\n",
        "\n",
        "result = np.column_stack((unique, counts))\n",
        "print (result)\n",
        "print(len(result))"
      ],
      "metadata": {
        "colab": {
          "base_uri": "https://localhost:8080/"
        },
        "id": "DO-DXYMERY3T",
        "outputId": "eea7d92c-f377-4f01-de65-55b9e1247536"
      },
      "execution_count": null,
      "outputs": [
        {
          "output_type": "stream",
          "name": "stdout",
          "text": [
            "[['Nintendo Switch' 18]\n",
            " ['PC' 646]\n",
            " ['PlayStation 4' 2]\n",
            " ['PlayStation 5' 59]\n",
            " ['Steam Deck' 5]\n",
            " ['VR' 4]\n",
            " ['Xbox Series X | S' 12]\n",
            " ['Индустрия' 198]\n",
            " ['Киберспорт' 1]\n",
            " ['Кино' 37]\n",
            " ['Мобильные' 13]\n",
            " ['Социальные' 1]\n",
            " ['Фановые' 1]]\n",
            "13\n"
          ]
        }
      ]
    },
    {
      "cell_type": "code",
      "source": [
        "!pip install pymorphy2\n",
        "!pip uninstall umap\n",
        "!pip install umap-learn"
      ],
      "metadata": {
        "id": "t_Dc5hIYXBIx"
      },
      "execution_count": null,
      "outputs": []
    },
    {
      "cell_type": "code",
      "source": [
        "import re\n",
        "from gensim.models.word2vec import Word2Vec\n",
        "from gensim.models import KeyedVectors\n",
        "from sklearn.cluster import KMeans\n",
        "import pymorphy2\n",
        "import seaborn as sns\n",
        "import matplotlib.pyplot as plt\n",
        "import umap.umap_ as umap\n",
        "from sklearn.metrics import adjusted_rand_score, davies_bouldin_score"
      ],
      "metadata": {
        "id": "IF0y5ZNpXU9G"
      },
      "execution_count": null,
      "outputs": []
    },
    {
      "cell_type": "code",
      "source": [
        "from google.colab import drive\n",
        "drive.mount('/content/drive')\n",
        "modelvec = 'drive/MyDrive/araneum_upos_skipgram_300_2_2018.vec'"
      ],
      "metadata": {
        "colab": {
          "base_uri": "https://localhost:8080/"
        },
        "id": "3aCzuNseXsIv",
        "outputId": "9418451b-6042-427d-a1df-33eea1bc2e06"
      },
      "execution_count": null,
      "outputs": [
        {
          "output_type": "stream",
          "name": "stdout",
          "text": [
            "Mounted at /content/drive\n"
          ]
        }
      ]
    },
    {
      "cell_type": "code",
      "source": [
        "model_w2v = KeyedVectors.load_word2vec_format(modelvec)\n",
        "index2word_set = set(model_w2v.index_to_key)"
      ],
      "metadata": {
        "id": "xgpkezKtanLQ"
      },
      "execution_count": null,
      "outputs": []
    },
    {
      "cell_type": "code",
      "source": [
        "\n",
        "conv_pos = {'ADJF':'ADJ', 'ADJS':'ADJ', 'ADV':'ADV', 'NOUN':'NOUN',\n",
        "            'VERB':'VERB', 'PRTF':'ADJ', 'PRTS':'ADJ', 'GRND':'VERB'}\n",
        "\n",
        "tmp_dict = {} # Кеш значимых слов.\n",
        "nones = {} # Кеш незначимых слов.\n",
        "\n",
        "morph = pymorphy2.MorphAnalyzer()\n",
        "\n",
        "# Фильтруем по части речи и возвращаем только начальную форму.\n",
        "def normalizePymorphy(text, need_pos=True):\n",
        "    tokens = re.findall('[A-Za-zА-Яа-яЁё]+\\-[A-Za-zА-Яа-яЁё]+|[A-Za-zА-Яа-яЁё]+', text)\n",
        "    words = []\n",
        "    for t in tokens:\n",
        "        # Если токен уже был закеширован, быстро возьмем результат из него.\n",
        "        if t in tmp_dict.keys():\n",
        "            words.append(tmp_dict[t])\n",
        "        # Аналогично, если он в кеше незначимых слов.\n",
        "        elif t in nones.keys():\n",
        "            pass\n",
        "        # Слово еще не встретилось, будем проводить медленный морфологический анализ.\n",
        "        else:\n",
        "            pv = morph.parse(t)\n",
        "            if pv[0].tag.POS != None:\n",
        "                if pv[0].tag.POS in conv_pos.keys():\n",
        "                    if need_pos:\n",
        "                        word = pv[0].normal_form+\"_\"+conv_pos[pv[0].tag.POS]\n",
        "                    else:\n",
        "                        word = pv[0].normal_form\n",
        "                    # Отправляем слово в результат, ...\n",
        "                    words.append(word)\n",
        "                    # ... и кешируем результат его разбора.\n",
        "                    tmp_dict[t] = word\n",
        "                else:\n",
        "                    # Для незначимых слов можно даже ничего не хранить. Лишь бы потом не обращаться к морфологии.\n",
        "                    nones[t] = \"\"\n",
        "\n",
        "    return words"
      ],
      "metadata": {
        "id": "7kIYCZG3XkZ3"
      },
      "execution_count": null,
      "outputs": []
    },
    {
      "cell_type": "markdown",
      "source": [
        "##Своя модель(не смотреть)\n"
      ],
      "metadata": {
        "id": "pgxz1X3AIziw"
      }
    },
    {
      "cell_type": "code",
      "source": [
        "sci_sentences = []\n",
        "for text in tqdm(df.text):\n",
        "    sci_sentences.append(normalizePymorphy(text))"
      ],
      "metadata": {
        "colab": {
          "base_uri": "https://localhost:8080/"
        },
        "id": "dzxcggq3GhZX",
        "outputId": "da12d9f1-7c7a-4d85-bd0a-d54716e42341"
      },
      "execution_count": null,
      "outputs": [
        {
          "output_type": "stream",
          "name": "stderr",
          "text": [
            "100%|██████████| 997/997 [00:00<00:00, 1083.82it/s]\n"
          ]
        }
      ]
    },
    {
      "cell_type": "code",
      "source": [
        "%%time\n",
        "\n",
        "# список параметров, которые можно менять по вашему желанию\n",
        "num_features = 128  # итоговая размерность вектора каждого слова\n",
        "min_word_count = 5  # минимальная частотность слова, чтобы оно попало в модель\n",
        "num_workers = 4     # количество ядер вашего процессора, чтоб запустить обучение в несколько потоков\n",
        "context = 10        # размер окна\n",
        "downsampling = 1e-3 # внутренняя метрика модели\n",
        "\n",
        "model_our_sci = Word2Vec(sci_sentences, workers=num_workers, vector_size=num_features,\n",
        "                 min_count=min_word_count, window=context, sample=downsampling)"
      ],
      "metadata": {
        "colab": {
          "base_uri": "https://localhost:8080/"
        },
        "id": "Q96YlfxMGY3u",
        "outputId": "1ab4380b-cde1-455f-8838-bd63ce67bf72"
      },
      "execution_count": null,
      "outputs": [
        {
          "output_type": "stream",
          "name": "stdout",
          "text": [
            "CPU times: user 925 ms, sys: 7.83 ms, total: 933 ms\n",
            "Wall time: 798 ms\n"
          ]
        }
      ]
    },
    {
      "cell_type": "code",
      "source": [
        "model_our_sci.wv.most_similar('игра_NOUN')"
      ],
      "metadata": {
        "colab": {
          "base_uri": "https://localhost:8080/"
        },
        "id": "aybf9FtLIfcS",
        "outputId": "0e7f8515-766e-4aed-d7c9-10c61fef3be0"
      },
      "execution_count": null,
      "outputs": [
        {
          "output_type": "execute_result",
          "data": {
            "text/plain": [
              "[('версия_NOUN', 0.9998277425765991),\n",
              " ('год_NOUN', 0.9998193383216858),\n",
              " ('выпустить_VERB', 0.9998141527175903),\n",
              " ('конец_NOUN', 0.9998036623001099),\n",
              " ('магазин_NOUN', 0.9997909069061279),\n",
              " ('дополнение_NOUN', 0.9997873902320862),\n",
              " ('появиться_VERB', 0.9997861385345459),\n",
              " ('консоль_NOUN', 0.9997827410697937),\n",
              " ('выход_NOUN', 0.9997746348381042),\n",
              " ('страница_NOUN', 0.9997734427452087)]"
            ]
          },
          "metadata": {},
          "execution_count": 46
        }
      ]
    },
    {
      "cell_type": "code",
      "source": [
        "# Размер проанализированного корпуса\n",
        "model_our_sci.corpus_total_words"
      ],
      "metadata": {
        "colab": {
          "base_uri": "https://localhost:8080/"
        },
        "id": "Y0X3RXHnInKf",
        "outputId": "189533a8-5447-476d-853b-82c7acc920b2"
      },
      "execution_count": null,
      "outputs": [
        {
          "output_type": "execute_result",
          "data": {
            "text/plain": [
              "66931"
            ]
          },
          "metadata": {},
          "execution_count": 47
        }
      ]
    },
    {
      "cell_type": "markdown",
      "source": [
        "##-продолжение"
      ],
      "metadata": {
        "id": "v6D-tnLpI7u9"
      }
    },
    {
      "cell_type": "code",
      "source": [
        "def text_to_vec(text):\n",
        "    text_vec = np.zeros((model_w2v.vector_size,), dtype=\"float32\")\n",
        "    n_words = 0\n",
        "\n",
        "    for word in normalizePymorphy(text):\n",
        "        if word in index2word_set:\n",
        "            n_words = n_words + 1\n",
        "            text_vec = np.add(text_vec, model_w2v[word])\n",
        "\n",
        "    if n_words != 0:\n",
        "        text_vec /= n_words\n",
        "    return text_vec"
      ],
      "metadata": {
        "id": "OLeZNTdHa1u-"
      },
      "execution_count": null,
      "outputs": []
    },
    {
      "cell_type": "code",
      "source": [
        "\n",
        "w2v_vectors = [text_to_vec(text) for text in news]\n",
        "\n",
        "umap_news = umap.UMAP()\n",
        "umaped_vct = umap_news.fit_transform(w2v_vectors)"
      ],
      "metadata": {
        "id": "PHHo19gJbvBt"
      },
      "execution_count": null,
      "outputs": []
    },
    {
      "cell_type": "code",
      "source": [
        "X = umaped_vct #w2v_vectors\n",
        "\n",
        "#Метод локтя\n",
        "crit = []\n",
        "\n",
        "for k in range(2, 15):\n",
        "    kmeans = KMeans(n_clusters=k, random_state=1, n_init='auto').fit(X)\n",
        "    crit.append(np.sqrt(kmeans.inertia_))\n",
        "\n",
        "plt.plot(range(2, 15), crit, marker='.')\n",
        "plt.show()"
      ],
      "metadata": {
        "colab": {
          "base_uri": "https://localhost:8080/",
          "height": 430
        },
        "id": "2myRd0NbbxhW",
        "outputId": "ee6f474d-57e6-45fe-f5d9-462800afca38"
      },
      "execution_count": null,
      "outputs": [
        {
          "output_type": "display_data",
          "data": {
            "text/plain": [
              "<Figure size 640x480 with 1 Axes>"
            ],
            "image/png": "[encoded data removed]"
          },
          "metadata": {}
        }
      ]
    },
    {
      "cell_type": "code",
      "source": [
        "#Оценка Дэвиса-Болдуина\n",
        "crit_db = []\n",
        "for k in range(2, 15):\n",
        "    kmeans = KMeans(n_clusters=k, random_state=1, n_init='auto').fit(X)\n",
        "    crit_db.append(davies_bouldin_score(X, kmeans.labels_))\n",
        "\n",
        "plt.plot(range(2, 15), crit_db, marker='.')\n",
        "plt.show()"
      ],
      "metadata": {
        "colab": {
          "base_uri": "https://localhost:8080/",
          "height": 430
        },
        "id": "RxRVcvCwb0l6",
        "outputId": "60c0ff9a-ea20-4a33-9073-f838ecd27790"
      },
      "execution_count": null,
      "outputs": [
        {
          "output_type": "display_data",
          "data": {
            "text/plain": [
              "<Figure size 640x480 with 1 Axes>"
            ],
            "image/png": "[encoded data removed]"
          },
          "metadata": {}
        }
      ]
    },
    {
      "cell_type": "code",
      "source": [
        "best_number = 6\n",
        "\n",
        "#n_clusters - число кластеров (центров), n_init - количество срабатываний алгоритма с разными координатами центров (алгоритм чувствителен к выбору центров, поэтому нужно его усреднять)\n",
        "#random_state - работает с n_init следующим образом: из равномерного распределения векторов берутся n_init * n_clusters центров и вот уже эти вектора детерменированы (одни и те же с каждым запуском)\n",
        "kmeans = KMeans(n_clusters=best_number, random_state=1, n_init='auto').fit(X)"
      ],
      "metadata": {
        "id": "hZ5B5luFb4CO"
      },
      "execution_count": null,
      "outputs": []
    },
    {
      "cell_type": "code",
      "source": [
        "plt.scatter(umaped_vct[:, 0], umaped_vct[:, 1], s=3, c=kmeans.labels_)"
      ],
      "metadata": {
        "colab": {
          "base_uri": "https://localhost:8080/",
          "height": 447
        },
        "id": "n_drH7RUb61R",
        "outputId": "9c44018a-5f72-4a42-e383-0a13dc390c77"
      },
      "execution_count": null,
      "outputs": [
        {
          "output_type": "execute_result",
          "data": {
            "text/plain": [
              "<matplotlib.collections.PathCollection at 0x7f3759985450>"
            ]
          },
          "metadata": {},
          "execution_count": 53
        },
        {
          "output_type": "display_data",
          "data": {
            "text/plain": [
              "<Figure size 640x480 with 1 Axes>"
            ],
            "image/png": "[encoded data removed]"
          },
          "metadata": {}
        }
      ]
    },
    {
      "cell_type": "code",
      "source": [
        "adjusted_rand_score(kmeans.labels_, tags)"
      ],
      "metadata": {
        "colab": {
          "base_uri": "https://localhost:8080/"
        },
        "id": "JP_vS_Bob-Hs",
        "outputId": "cf9e8e40-110f-4641-cccb-163ca7ed3f73"
      },
      "execution_count": null,
      "outputs": [
        {
          "output_type": "execute_result",
          "data": {
            "text/plain": [
              "0.1058678442657296"
            ]
          },
          "metadata": {},
          "execution_count": 54
        }
      ]
    },
    {
      "cell_type": "markdown",
      "source": [
        "## Классификация"
      ],
      "metadata": {
        "id": "q2s3Ztc5cAnH"
      }
    },
    {
      "cell_type": "code",
      "source": [
        "from sklearn.neighbors import KNeighborsClassifier\n",
        "from sklearn.model_selection import train_test_split\n",
        "from sklearn.metrics import confusion_matrix\n",
        "import itertools"
      ],
      "metadata": {
        "id": "HJznYSz4do_y"
      },
      "execution_count": null,
      "outputs": []
    },
    {
      "cell_type": "code",
      "source": [
        "unique, counts = np.unique(kmeans.labels_, return_counts=True)\n",
        "\n",
        "result = np.column_stack((unique, counts))\n",
        "print (result)"
      ],
      "metadata": {
        "colab": {
          "base_uri": "https://localhost:8080/"
        },
        "id": "qm6bR2i8eDRO",
        "outputId": "d08676b3-67b2-44cb-b21f-62126cc65da0"
      },
      "execution_count": null,
      "outputs": [
        {
          "output_type": "stream",
          "name": "stdout",
          "text": [
            "[[  0 180]\n",
            " [  1 110]\n",
            " [  2 121]\n",
            " [  3 238]\n",
            " [  4 175]\n",
            " [  5 173]]\n"
          ]
        }
      ]
    },
    {
      "cell_type": "code",
      "source": [
        "\n",
        "Y = []\n",
        "\n",
        "for i, a in enumerate(X):\n",
        "    if kmeans.labels_[i]==1:\n",
        "        Y.append(1.0)\n",
        "    else:\n",
        "        Y.append(0.0)"
      ],
      "metadata": {
        "id": "wPLXDNOOeF5f"
      },
      "execution_count": null,
      "outputs": []
    },
    {
      "cell_type": "code",
      "source": [
        "X_ = np.array(X)"
      ],
      "metadata": {
        "id": "BMl4WbRGeIbG"
      },
      "execution_count": null,
      "outputs": []
    },
    {
      "cell_type": "code",
      "source": [
        "#Делим данные на обучающую и тестовую выборку\n",
        "X_train, X_test, Y_train, Y_test = train_test_split(X_, Y, test_size=0.2)\n",
        "\n",
        "print(X_train.shape[0], 'train', X_test.shape[0], 'test')"
      ],
      "metadata": {
        "colab": {
          "base_uri": "https://localhost:8080/"
        },
        "id": "WJq2qK1ZeKvu",
        "outputId": "318256b8-25c3-476b-a7d4-0af0cf549911"
      },
      "execution_count": null,
      "outputs": [
        {
          "output_type": "stream",
          "name": "stdout",
          "text": [
            "797 train 200 test\n"
          ]
        }
      ]
    },
    {
      "cell_type": "code",
      "source": [
        "#Измеряем точность (accuracy) алгоритма для разного количества ближайших соседей (в методе KNN)\n",
        "def calc_prec(y_hat2, y_test):\n",
        "    prec=0\n",
        "    for i, j in zip(y_hat2, y_test):\n",
        "        if i==j:\n",
        "            prec+=1\n",
        "    prec/=len(y_test)\n",
        "    return prec\n",
        "\n",
        "prec = []\n",
        "for k in range(1, 20):\n",
        "    knn = KNeighborsClassifier(n_neighbors=k, weights='uniform', metric='euclidean')\n",
        "    knn.fit(X_train, Y_train)\n",
        "    y_hat2=knn.predict(X_test)\n",
        "    prec.append(calc_prec(y_hat2, Y_test))"
      ],
      "metadata": {
        "id": "NA2-f3_HeNjW"
      },
      "execution_count": null,
      "outputs": []
    },
    {
      "cell_type": "code",
      "source": [
        "#accuracy\n",
        "plt.plot(range(1, 20), prec);"
      ],
      "metadata": {
        "colab": {
          "base_uri": "https://localhost:8080/",
          "height": 430
        },
        "id": "dl_JiiU_eP5W",
        "outputId": "63187c48-0abb-494a-cee1-2f0bca4d2b2c"
      },
      "execution_count": null,
      "outputs": [
        {
          "output_type": "display_data",
          "data": {
            "text/plain": [
              "<Figure size 640x480 with 1 Axes>"
            ],
            "image/png": "[encoded data removed]"
          },
          "metadata": {}
        }
      ]
    },
    {
      "cell_type": "code",
      "source": [
        "def plot_confusion_matrix(cm, classes,\n",
        "                          normalize=False,\n",
        "                          title='Confusion matrix',\n",
        "                          cmap=plt.cm.Reds):\n",
        "    \"\"\"\n",
        "    This function prints and plots the confusion matrix.\n",
        "    Normalization can be applied by setting `normalize=True`.\n",
        "    \"\"\"\n",
        "    plt.imshow(cm, interpolation='nearest', cmap=cmap)\n",
        "    plt.title(title)\n",
        "    plt.colorbar()\n",
        "    tick_marks = np.arange(len(classes))\n",
        "    plt.xticks(tick_marks, classes, rotation=45)\n",
        "    plt.yticks(tick_marks, classes)\n",
        "\n",
        "    if normalize:\n",
        "        cm = cm.astype('float') / cm.sum(axis=1)[:, np.newaxis]\n",
        "        print(\"Normalized confusion matrix\")\n",
        "    else:\n",
        "        print('Confusion matrix, without normalization')\n",
        "\n",
        "    print(cm)\n",
        "\n",
        "    thresh = cm.max() / 2.\n",
        "    for i, j in itertools.product(range(cm.shape[0]), range(cm.shape[1])):\n",
        "        plt.text(j, i, cm[i, j],\n",
        "                 horizontalalignment=\"center\",\n",
        "                 color=\"white\" if cm[i, j] > thresh else \"black\")\n",
        "\n",
        "    plt.tight_layout()\n",
        "    plt.ylabel('True label')\n",
        "    plt.xlabel('Predicted label')\n",
        "\n",
        "font = {'size' : 10}\n",
        "\n",
        "plt.rc('font', **font)\n",
        "\n",
        "cnf_matrix = confusion_matrix(Y_test, knn.predict(X_test))\n",
        "plt.figure(figsize=(8, 6))\n",
        "plot_confusion_matrix(cnf_matrix, classes=['false class', 'true class'],\n",
        "                      title='Confusion matrix')\n",
        "plt.show()"
      ],
      "metadata": {
        "colab": {
          "base_uri": "https://localhost:8080/",
          "height": 678
        },
        "id": "8AQWbE4NeTb2",
        "outputId": "08b6375d-8454-4c43-d0ad-477452b524ed"
      },
      "execution_count": null,
      "outputs": [
        {
          "output_type": "stream",
          "name": "stdout",
          "text": [
            "Confusion matrix, without normalization\n",
            "[[178   0]\n",
            " [  1  21]]\n"
          ]
        },
        {
          "output_type": "display_data",
          "data": {
            "text/plain": [
              "<Figure size 800x600 with 2 Axes>"
            ],
            "image/png": "[encoded data removed]"
          },
          "metadata": {}
        }
      ]
    },
    {
      "cell_type": "code",
      "source": [
        "from sklearn. metrics import f1_score\n",
        "\n",
        "#define array of actual classes\n",
        "actual = np.repeat([1, 0], repeats=[22, 178])\n",
        "\n",
        "#define array of predicted classes\n",
        "pred = np.repeat([1, 0, 1, 0], repeats=[21, 1, 0, 178])\n",
        "\n",
        "#calculate F1 score\n",
        "f1_score(actual, pred)"
      ],
      "metadata": {
        "colab": {
          "base_uri": "https://localhost:8080/"
        },
        "id": "MvDK8KJrB5Z0",
        "outputId": "6b00302f-81a8-4787-a6c6-148fd37356d1"
      },
      "execution_count": null,
      "outputs": [
        {
          "output_type": "execute_result",
          "data": {
            "text/plain": [
              "0.9767441860465117"
            ]
          },
          "metadata": {},
          "execution_count": 63
        }
      ]
    }
  ],
  "metadata": {
    "colab": {
      "provenance": []
    },
    "kernelspec": {
      "display_name": "Python 3",
      "name": "python3"
    },
    "language_info": {
      "name": "python"
    }
  },
  "nbformat": 4,
  "nbformat_minor": 0
}